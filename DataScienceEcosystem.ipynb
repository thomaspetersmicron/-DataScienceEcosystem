{
 "cells": [
  {
   "cell_type": "markdown",
   "id": "4df2d066-6ecc-4965-8704-2c4308fb2fb9",
   "metadata": {
    "tags": []
   },
   "source": [
    "# Data Science Tools and Ecosystem"
   ]
  },
  {
   "cell_type": "markdown",
   "id": "a5da4a5c-dd52-468f-ac6b-8548cccb6427",
   "metadata": {},
   "source": [
    "In this notebook, Data Science Tools and Ecosystem are summarized."
   ]
  },
  {
   "cell_type": "markdown",
   "id": "e57b4f5a-2cdf-40ed-b39d-e3c44c354952",
   "metadata": {
    "tags": []
   },
   "source": [
    "**Objectives:**\n",
    "* List popular languages for Data Science\n",
    "* List commonly used libraries for Data Science\n",
    "* List commonly used tools for Data Science\n",
    "* basic math in python"
   ]
  },
  {
   "cell_type": "markdown",
   "id": "0ae8e5ff-c42b-4bdc-a76c-2a59c510c571",
   "metadata": {},
   "source": [
    "Some of the popular languages that Data Scientists use are:\n",
    "<ol>\n",
    "    <li> Julia </li>\n",
    "    <li> Python </li>\n",
    "    <li> R </li>\n",
    "<ol/>"
   ]
  },
  {
   "cell_type": "markdown",
   "id": "2dca5f82-daca-4def-acd4-9daa6534a647",
   "metadata": {},
   "source": [
    "Some of the commonly used libraries used by Data Scientists include:\n",
    "<ol>\n",
    "    <li>  Scikit-learn  </li>\n",
    "    <li> IBM  DAX </li>\n",
    "    <li> TensorFlow </li>\n",
    "<ol/>"
   ]
  },
  {
   "cell_type": "markdown",
   "id": "1fd206a4-a061-4864-bbe8-efbe3aa10e2a",
   "metadata": {
    "tags": []
   },
   "source": [
    "\n",
    "| Data Science Tools |\n",
    "| :-: |\n",
    "| Juypterlab |\n",
    "| RStudio |\n",
    "| GitHub |"
   ]
  },
  {
   "cell_type": "markdown",
   "id": "d15fb370-70a1-4d3f-bceb-a192103d0a61",
   "metadata": {
    "tags": []
   },
   "source": [
    "### Below are a few examples of evaluating arithmetic expressions in Python.\n"
   ]
  },
  {
   "cell_type": "code",
   "execution_count": 8,
   "id": "14810cf2-7ecb-4791-acfa-f6e4d689d57c",
   "metadata": {
    "tags": []
   },
   "outputs": [
    {
     "data": {
      "text/plain": [
       "17"
      ]
     },
     "execution_count": 8,
     "metadata": {},
     "output_type": "execute_result"
    }
   ],
   "source": [
    "#This a simple arithmetic expression to mutiply then add integers\n",
    "(3*4)+5"
   ]
  },
  {
   "cell_type": "code",
   "execution_count": 16,
   "id": "386b39d2-bff7-4430-90d0-0b239769bf74",
   "metadata": {
    "tags": []
   },
   "outputs": [
    {
     "name": "stdout",
     "output_type": "stream",
     "text": [
      "3.3333333333333335  hours\n"
     ]
    }
   ],
   "source": [
    "#This will convert 200 minutes to hours by diving by 60\n",
    "def conversion_m_to_h(t):\n",
    "    return t/60.\n",
    "print(conversion_m_to_h(200), ' hours')\n"
   ]
  },
  {
   "cell_type": "markdown",
   "id": "5d958ad7-5c8b-4417-9bff-dbfded7b7c88",
   "metadata": {
    "tags": []
   },
   "source": [
    "## Author  \n",
    "Thomas Peterson"
   ]
  },
  {
   "cell_type": "code",
   "execution_count": null,
   "id": "5c6f2969-ceee-4451-9560-d31ee79e8246",
   "metadata": {},
   "outputs": [],
   "source": []
  }
 ],
 "metadata": {
  "kernelspec": {
   "display_name": "Python",
   "language": "python",
   "name": "conda-env-python-py"
  },
  "language_info": {
   "codemirror_mode": {
    "name": "ipython",
    "version": 3
   },
   "file_extension": ".py",
   "mimetype": "text/x-python",
   "name": "python",
   "nbconvert_exporter": "python",
   "pygments_lexer": "ipython3",
   "version": "3.7.12"
  }
 },
 "nbformat": 4,
 "nbformat_minor": 5
}
